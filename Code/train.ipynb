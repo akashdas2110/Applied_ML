{
  "nbformat": 4,
  "nbformat_minor": 0,
  "metadata": {
    "colab": {
      "provenance": []
    },
    "kernelspec": {
      "name": "python3",
      "display_name": "Python 3"
    },
    "language_info": {
      "name": "python"
    },
    "widgets": {
      "application/vnd.jupyter.widget-state+json": {
        "103c26b4aab84141a536a580a6be3b74": {
          "model_module": "@jupyter-widgets/controls",
          "model_name": "HBoxModel",
          "model_module_version": "1.5.0",
          "state": {
            "_dom_classes": [],
            "_model_module": "@jupyter-widgets/controls",
            "_model_module_version": "1.5.0",
            "_model_name": "HBoxModel",
            "_view_count": null,
            "_view_module": "@jupyter-widgets/controls",
            "_view_module_version": "1.5.0",
            "_view_name": "HBoxView",
            "box_style": "",
            "children": [
              "IPY_MODEL_4e529c0021a04b3dbbb3734668ad2f42",
              "IPY_MODEL_b51c10d3f21f4952aad16701cd72d5a8",
              "IPY_MODEL_e721475d20ce49b69490630cec6d73b9"
            ],
            "layout": "IPY_MODEL_888dfb4a8d944f78b5c64e89c0d3cea6"
          }
        },
        "4e529c0021a04b3dbbb3734668ad2f42": {
          "model_module": "@jupyter-widgets/controls",
          "model_name": "HTMLModel",
          "model_module_version": "1.5.0",
          "state": {
            "_dom_classes": [],
            "_model_module": "@jupyter-widgets/controls",
            "_model_module_version": "1.5.0",
            "_model_name": "HTMLModel",
            "_view_count": null,
            "_view_module": "@jupyter-widgets/controls",
            "_view_module_version": "1.5.0",
            "_view_name": "HTMLView",
            "description": "",
            "description_tooltip": null,
            "layout": "IPY_MODEL_3c3d283856044b61a89ce5ea3e633fe0",
            "placeholder": "​",
            "style": "IPY_MODEL_ba63b93aed124d1d855b09520172f8e8",
            "value": "Training Models: 100%"
          }
        },
        "b51c10d3f21f4952aad16701cd72d5a8": {
          "model_module": "@jupyter-widgets/controls",
          "model_name": "FloatProgressModel",
          "model_module_version": "1.5.0",
          "state": {
            "_dom_classes": [],
            "_model_module": "@jupyter-widgets/controls",
            "_model_module_version": "1.5.0",
            "_model_name": "FloatProgressModel",
            "_view_count": null,
            "_view_module": "@jupyter-widgets/controls",
            "_view_module_version": "1.5.0",
            "_view_name": "ProgressView",
            "bar_style": "success",
            "description": "",
            "description_tooltip": null,
            "layout": "IPY_MODEL_e17bb35438404d3085b8c2e3681df445",
            "max": 3,
            "min": 0,
            "orientation": "horizontal",
            "style": "IPY_MODEL_8060af21da5445109281f10a23ec44a6",
            "value": 3
          }
        },
        "e721475d20ce49b69490630cec6d73b9": {
          "model_module": "@jupyter-widgets/controls",
          "model_name": "HTMLModel",
          "model_module_version": "1.5.0",
          "state": {
            "_dom_classes": [],
            "_model_module": "@jupyter-widgets/controls",
            "_model_module_version": "1.5.0",
            "_model_name": "HTMLModel",
            "_view_count": null,
            "_view_module": "@jupyter-widgets/controls",
            "_view_module_version": "1.5.0",
            "_view_name": "HTMLView",
            "description": "",
            "description_tooltip": null,
            "layout": "IPY_MODEL_f6ac00fd5014411eabe6a64b6f1217a5",
            "placeholder": "​",
            "style": "IPY_MODEL_406559e8f2864e67819a234825adf779",
            "value": " 3/3 [00:40&lt;00:00, 16.68s/it]"
          }
        },
        "888dfb4a8d944f78b5c64e89c0d3cea6": {
          "model_module": "@jupyter-widgets/base",
          "model_name": "LayoutModel",
          "model_module_version": "1.2.0",
          "state": {
            "_model_module": "@jupyter-widgets/base",
            "_model_module_version": "1.2.0",
            "_model_name": "LayoutModel",
            "_view_count": null,
            "_view_module": "@jupyter-widgets/base",
            "_view_module_version": "1.2.0",
            "_view_name": "LayoutView",
            "align_content": null,
            "align_items": null,
            "align_self": null,
            "border": null,
            "bottom": null,
            "display": null,
            "flex": null,
            "flex_flow": null,
            "grid_area": null,
            "grid_auto_columns": null,
            "grid_auto_flow": null,
            "grid_auto_rows": null,
            "grid_column": null,
            "grid_gap": null,
            "grid_row": null,
            "grid_template_areas": null,
            "grid_template_columns": null,
            "grid_template_rows": null,
            "height": null,
            "justify_content": null,
            "justify_items": null,
            "left": null,
            "margin": null,
            "max_height": null,
            "max_width": null,
            "min_height": null,
            "min_width": null,
            "object_fit": null,
            "object_position": null,
            "order": null,
            "overflow": null,
            "overflow_x": null,
            "overflow_y": null,
            "padding": null,
            "right": null,
            "top": null,
            "visibility": null,
            "width": null
          }
        },
        "3c3d283856044b61a89ce5ea3e633fe0": {
          "model_module": "@jupyter-widgets/base",
          "model_name": "LayoutModel",
          "model_module_version": "1.2.0",
          "state": {
            "_model_module": "@jupyter-widgets/base",
            "_model_module_version": "1.2.0",
            "_model_name": "LayoutModel",
            "_view_count": null,
            "_view_module": "@jupyter-widgets/base",
            "_view_module_version": "1.2.0",
            "_view_name": "LayoutView",
            "align_content": null,
            "align_items": null,
            "align_self": null,
            "border": null,
            "bottom": null,
            "display": null,
            "flex": null,
            "flex_flow": null,
            "grid_area": null,
            "grid_auto_columns": null,
            "grid_auto_flow": null,
            "grid_auto_rows": null,
            "grid_column": null,
            "grid_gap": null,
            "grid_row": null,
            "grid_template_areas": null,
            "grid_template_columns": null,
            "grid_template_rows": null,
            "height": null,
            "justify_content": null,
            "justify_items": null,
            "left": null,
            "margin": null,
            "max_height": null,
            "max_width": null,
            "min_height": null,
            "min_width": null,
            "object_fit": null,
            "object_position": null,
            "order": null,
            "overflow": null,
            "overflow_x": null,
            "overflow_y": null,
            "padding": null,
            "right": null,
            "top": null,
            "visibility": null,
            "width": null
          }
        },
        "ba63b93aed124d1d855b09520172f8e8": {
          "model_module": "@jupyter-widgets/controls",
          "model_name": "DescriptionStyleModel",
          "model_module_version": "1.5.0",
          "state": {
            "_model_module": "@jupyter-widgets/controls",
            "_model_module_version": "1.5.0",
            "_model_name": "DescriptionStyleModel",
            "_view_count": null,
            "_view_module": "@jupyter-widgets/base",
            "_view_module_version": "1.2.0",
            "_view_name": "StyleView",
            "description_width": ""
          }
        },
        "e17bb35438404d3085b8c2e3681df445": {
          "model_module": "@jupyter-widgets/base",
          "model_name": "LayoutModel",
          "model_module_version": "1.2.0",
          "state": {
            "_model_module": "@jupyter-widgets/base",
            "_model_module_version": "1.2.0",
            "_model_name": "LayoutModel",
            "_view_count": null,
            "_view_module": "@jupyter-widgets/base",
            "_view_module_version": "1.2.0",
            "_view_name": "LayoutView",
            "align_content": null,
            "align_items": null,
            "align_self": null,
            "border": null,
            "bottom": null,
            "display": null,
            "flex": null,
            "flex_flow": null,
            "grid_area": null,
            "grid_auto_columns": null,
            "grid_auto_flow": null,
            "grid_auto_rows": null,
            "grid_column": null,
            "grid_gap": null,
            "grid_row": null,
            "grid_template_areas": null,
            "grid_template_columns": null,
            "grid_template_rows": null,
            "height": null,
            "justify_content": null,
            "justify_items": null,
            "left": null,
            "margin": null,
            "max_height": null,
            "max_width": null,
            "min_height": null,
            "min_width": null,
            "object_fit": null,
            "object_position": null,
            "order": null,
            "overflow": null,
            "overflow_x": null,
            "overflow_y": null,
            "padding": null,
            "right": null,
            "top": null,
            "visibility": null,
            "width": null
          }
        },
        "8060af21da5445109281f10a23ec44a6": {
          "model_module": "@jupyter-widgets/controls",
          "model_name": "ProgressStyleModel",
          "model_module_version": "1.5.0",
          "state": {
            "_model_module": "@jupyter-widgets/controls",
            "_model_module_version": "1.5.0",
            "_model_name": "ProgressStyleModel",
            "_view_count": null,
            "_view_module": "@jupyter-widgets/base",
            "_view_module_version": "1.2.0",
            "_view_name": "StyleView",
            "bar_color": null,
            "description_width": ""
          }
        },
        "f6ac00fd5014411eabe6a64b6f1217a5": {
          "model_module": "@jupyter-widgets/base",
          "model_name": "LayoutModel",
          "model_module_version": "1.2.0",
          "state": {
            "_model_module": "@jupyter-widgets/base",
            "_model_module_version": "1.2.0",
            "_model_name": "LayoutModel",
            "_view_count": null,
            "_view_module": "@jupyter-widgets/base",
            "_view_module_version": "1.2.0",
            "_view_name": "LayoutView",
            "align_content": null,
            "align_items": null,
            "align_self": null,
            "border": null,
            "bottom": null,
            "display": null,
            "flex": null,
            "flex_flow": null,
            "grid_area": null,
            "grid_auto_columns": null,
            "grid_auto_flow": null,
            "grid_auto_rows": null,
            "grid_column": null,
            "grid_gap": null,
            "grid_row": null,
            "grid_template_areas": null,
            "grid_template_columns": null,
            "grid_template_rows": null,
            "height": null,
            "justify_content": null,
            "justify_items": null,
            "left": null,
            "margin": null,
            "max_height": null,
            "max_width": null,
            "min_height": null,
            "min_width": null,
            "object_fit": null,
            "object_position": null,
            "order": null,
            "overflow": null,
            "overflow_x": null,
            "overflow_y": null,
            "padding": null,
            "right": null,
            "top": null,
            "visibility": null,
            "width": null
          }
        },
        "406559e8f2864e67819a234825adf779": {
          "model_module": "@jupyter-widgets/controls",
          "model_name": "DescriptionStyleModel",
          "model_module_version": "1.5.0",
          "state": {
            "_model_module": "@jupyter-widgets/controls",
            "_model_module_version": "1.5.0",
            "_model_name": "DescriptionStyleModel",
            "_view_count": null,
            "_view_module": "@jupyter-widgets/base",
            "_view_module_version": "1.2.0",
            "_view_name": "StyleView",
            "description_width": ""
          }
        }
      }
    }
  },
  "cells": [
    {
      "cell_type": "markdown",
      "source": [
        "# Import Necessary Libraries"
      ],
      "metadata": {
        "id": "gxISlaaUUYuY"
      }
    },
    {
      "cell_type": "code",
      "execution_count": 1,
      "metadata": {
        "id": "wiz_iY3prUq4"
      },
      "outputs": [],
      "source": [
        "import pandas as pd\n",
        "from sklearn.feature_extraction.text import TfidfVectorizer\n",
        "from sklearn.linear_model import LogisticRegression\n",
        "from sklearn.naive_bayes import MultinomialNB\n",
        "from sklearn.metrics import accuracy_score, classification_report\n",
        "from sklearn.pipeline import Pipeline\n",
        "import lightgbm as lgb\n",
        "from tqdm.auto import tqdm\n",
        "from xgboost import XGBClassifier\n",
        "from sklearn.model_selection import GridSearchCV\n",
        "from sklearn.ensemble import RandomForestClassifier\n",
        "import numpy as np\n",
        "from sklearn.preprocessing import StandardScaler\n",
        "from sklearn.svm import SVC\n"
      ]
    },
    {
      "cell_type": "markdown",
      "source": [
        "# Mount Google drive"
      ],
      "metadata": {
        "id": "dWp8BIJuK6WV"
      }
    },
    {
      "cell_type": "code",
      "source": [
        "from google.colab import drive\n",
        "drive.mount('/content/drive')"
      ],
      "metadata": {
        "colab": {
          "base_uri": "https://localhost:8080/"
        },
        "outputId": "cb0a32e3-2c1f-42b0-f099-3c9785f55c20",
        "id": "NzQR2mDbiLo8"
      },
      "execution_count": 2,
      "outputs": [
        {
          "output_type": "stream",
          "name": "stdout",
          "text": [
            "Mounted at /content/drive\n"
          ]
        }
      ]
    },
    {
      "cell_type": "markdown",
      "source": [
        "# Define Necessary Functions"
      ],
      "metadata": {
        "id": "IWcj7cxGVoUq"
      }
    },
    {
      "cell_type": "code",
      "execution_count": 26,
      "metadata": {
        "id": "TrC8iok3rUq7"
      },
      "outputs": [],
      "source": [
        "# Function to load stored splitted data\n",
        "def load_split_data(file_path):\n",
        "    return pd.read_csv(file_path)\n",
        "\n",
        "# Function to fit models\n",
        "def fit_model(train_data, y_train, model_name='logistic_regression'):\n",
        "    if model_name == 'logistic_regression':\n",
        "        model = Pipeline([\n",
        "            ('tfidf', TfidfVectorizer(stop_words='english')),\n",
        "            ('clf', LogisticRegression(random_state=42))\n",
        "        ])\n",
        "    elif model_name == 'random_forest':\n",
        "        model = Pipeline([\n",
        "            ('tfidf', TfidfVectorizer(stop_words='english')),\n",
        "            ('clf', RandomForestClassifier(random_state=42))\n",
        "        ])\n",
        "    elif model_name == 'svm':\n",
        "        model = Pipeline([\n",
        "            ('tfidf', TfidfVectorizer(stop_words='english')),\n",
        "            ('clf', SVC())\n",
        "        ])\n",
        "    else:\n",
        "        raise ValueError(\"Model name not recognized. Choose 'logistic_regression', 'random_forest', or 'svm'\")\n",
        "\n",
        "    model.fit(train_data, y_train)\n",
        "    return model\n",
        "\n",
        "# Function to calculate scores of differet models\n",
        "def score_model(model, data, y_true):\n",
        "    y_pred = model.predict(data)\n",
        "    return accuracy_score(y_true, y_pred)\n",
        "\n",
        "# Function for model evaluation\n",
        "def evaluate_model(y_true, y_pred):\n",
        "    print(classification_report(y_true, y_pred))\n",
        "\n",
        "# Function for model validation\n",
        "def validate_model(model, train_data, y_train, validation_data, y_val):\n",
        "    print(\"Train score:\", score_model(model, train_data, y_train))\n",
        "    print(\"Validation score:\", score_model(model, validation_data, y_val))"
      ]
    },
    {
      "cell_type": "markdown",
      "source": [
        "# Model Selection from 3 benchmarked models"
      ],
      "metadata": {
        "id": "Vqb6t5I2u8Zf"
      }
    },
    {
      "cell_type": "code",
      "execution_count": 27,
      "metadata": {
        "id": "SxLi_o7irUq8"
      },
      "outputs": [],
      "source": [
        "model_names = ['logistic_regression', 'random_forest', 'svm']"
      ]
    },
    {
      "cell_type": "code",
      "execution_count": 28,
      "metadata": {
        "id": "KoDlfkFvrUq8"
      },
      "outputs": [],
      "source": [
        "# Load data\n",
        "train_data = load_split_data(r'/content/drive/MyDrive/Applied_ML_A1/train.csv')\n",
        "validation_data = load_split_data(r'/content/drive/MyDrive/Applied_ML_A1/validation.csv')\n",
        "test_data = load_split_data(r'/content/drive/MyDrive/Applied_ML_A1/test.csv')\n"
      ]
    },
    {
      "cell_type": "code",
      "execution_count": 29,
      "metadata": {
        "id": "A_OecIj8rUq8"
      },
      "outputs": [],
      "source": [
        "X_train = train_data['text']\n",
        "y_train = train_data['spam']\n",
        "X_val = validation_data['text']\n",
        "y_val = validation_data['spam']\n",
        "X_test = test_data['text']\n",
        "y_test = test_data['spam']"
      ]
    },
    {
      "cell_type": "markdown",
      "metadata": {
        "id": "msaDMcZkrUq8"
      },
      "source": [
        "## Training and evaluation"
      ]
    },
    {
      "cell_type": "code",
      "execution_count": 30,
      "metadata": {
        "id": "9z2-_5_8rUq9",
        "outputId": "39b1dbe9-84a2-4f22-e50d-d8f3efce6d1b",
        "colab": {
          "base_uri": "https://localhost:8080/",
          "height": 1000,
          "referenced_widgets": [
            "103c26b4aab84141a536a580a6be3b74",
            "4e529c0021a04b3dbbb3734668ad2f42",
            "b51c10d3f21f4952aad16701cd72d5a8",
            "e721475d20ce49b69490630cec6d73b9",
            "888dfb4a8d944f78b5c64e89c0d3cea6",
            "3c3d283856044b61a89ce5ea3e633fe0",
            "ba63b93aed124d1d855b09520172f8e8",
            "e17bb35438404d3085b8c2e3681df445",
            "8060af21da5445109281f10a23ec44a6",
            "f6ac00fd5014411eabe6a64b6f1217a5",
            "406559e8f2864e67819a234825adf779"
          ]
        }
      },
      "outputs": [
        {
          "output_type": "display_data",
          "data": {
            "text/plain": [
              "Training Models:   0%|          | 0/3 [00:00<?, ?it/s]"
            ],
            "application/vnd.jupyter.widget-view+json": {
              "version_major": 2,
              "version_minor": 0,
              "model_id": "103c26b4aab84141a536a580a6be3b74"
            }
          },
          "metadata": {}
        },
        {
          "output_type": "stream",
          "name": "stdout",
          "text": [
            "\n",
            "Training with logistic_regression:\n",
            "Train score: 0.9949803579223047\n",
            "Validation score: 0.9825378346915018\n",
            "For training.\n",
            "\n",
            "              precision    recall  f1-score   support\n",
            "\n",
            "           0       0.99      1.00      1.00      3504\n",
            "           1       1.00      0.98      0.99      1078\n",
            "\n",
            "    accuracy                           0.99      4582\n",
            "   macro avg       1.00      0.99      0.99      4582\n",
            "weighted avg       0.99      0.99      0.99      4582\n",
            "\n",
            "For validation.\n",
            "\n",
            "              precision    recall  f1-score   support\n",
            "\n",
            "           0       0.98      1.00      0.99       645\n",
            "           1       1.00      0.93      0.96       214\n",
            "\n",
            "    accuracy                           0.98       859\n",
            "   macro avg       0.99      0.97      0.98       859\n",
            "weighted avg       0.98      0.98      0.98       859\n",
            "\n",
            "\n",
            "Training with random_forest:\n",
            "Train score: 1.0\n",
            "Validation score: 0.9790454016298021\n",
            "For training.\n",
            "\n",
            "              precision    recall  f1-score   support\n",
            "\n",
            "           0       1.00      1.00      1.00      3504\n",
            "           1       1.00      1.00      1.00      1078\n",
            "\n",
            "    accuracy                           1.00      4582\n",
            "   macro avg       1.00      1.00      1.00      4582\n",
            "weighted avg       1.00      1.00      1.00      4582\n",
            "\n",
            "For validation.\n",
            "\n",
            "              precision    recall  f1-score   support\n",
            "\n",
            "           0       0.97      1.00      0.99       645\n",
            "           1       1.00      0.92      0.96       214\n",
            "\n",
            "    accuracy                           0.98       859\n",
            "   macro avg       0.99      0.96      0.97       859\n",
            "weighted avg       0.98      0.98      0.98       859\n",
            "\n",
            "\n",
            "Training with svm:\n",
            "Train score: 1.0\n",
            "Validation score: 0.9871944121071012\n",
            "For training.\n",
            "\n",
            "              precision    recall  f1-score   support\n",
            "\n",
            "           0       1.00      1.00      1.00      3504\n",
            "           1       1.00      1.00      1.00      1078\n",
            "\n",
            "    accuracy                           1.00      4582\n",
            "   macro avg       1.00      1.00      1.00      4582\n",
            "weighted avg       1.00      1.00      1.00      4582\n",
            "\n",
            "For validation.\n",
            "\n",
            "              precision    recall  f1-score   support\n",
            "\n",
            "           0       0.98      1.00      0.99       645\n",
            "           1       1.00      0.95      0.97       214\n",
            "\n",
            "    accuracy                           0.99       859\n",
            "   macro avg       0.99      0.98      0.98       859\n",
            "weighted avg       0.99      0.99      0.99       859\n",
            "\n"
          ]
        }
      ],
      "source": [
        "# Training and evaluation\n",
        "for model_name in tqdm(model_names, desc=\"Training Models\"):\n",
        "    print(f\"\\nTraining with {model_name}:\")\n",
        "    model = fit_model(X_train, y_train, model_name)\n",
        "\n",
        "    # Score on train and validation\n",
        "    validate_model(model, X_train, y_train, X_val, y_val)\n",
        "\n",
        "    # Evaluate on train and validation\n",
        "    y_pred_train = model.predict(X_train)\n",
        "    y_pred_val = model.predict(X_val)\n",
        "    print(\"For training.\\n\")\n",
        "    evaluate_model(y_train, y_pred_train)\n",
        "    print(\"For validation.\\n\")\n",
        "    evaluate_model(y_val, y_pred_val)"
      ]
    },
    {
      "cell_type": "markdown",
      "source": [
        "# Based on Recall and Precission Logistic Regression is the best out of 3 benchmarked models before parameter tuning. Also SVM and Random Forest model may overfit the data as accuracy score in training data is 1 for both the models."
      ],
      "metadata": {
        "id": "g-Lk6DWhVX2O"
      }
    },
    {
      "cell_type": "markdown",
      "source": [
        "# Tune hyperparameters of Logistic Regression model"
      ],
      "metadata": {
        "id": "iIPIW_dgW1eX"
      }
    },
    {
      "cell_type": "code",
      "source": [
        "LR_model = Pipeline([\n",
        "            ('tfidf', TfidfVectorizer(stop_words='english')),\n",
        "            ('clf', LogisticRegression(random_state=42))\n",
        "        ])\n",
        "\n",
        "LR_model_params =  {\n",
        "        'tfidf__max_df': [0.5, 0.75],\n",
        "        'tfidf__ngram_range': [(1, 1), (1, 2)],\n",
        "        'clf__C': [0.1, 1, 10]\n",
        "    }"
      ],
      "metadata": {
        "id": "0bSDcrknvmyh"
      },
      "execution_count": 32,
      "outputs": []
    },
    {
      "cell_type": "code",
      "source": [
        "grid_search = GridSearchCV(LR_model, LR_model_params, cv=3, n_jobs=-1, verbose=1)\n",
        "grid_search.fit(X_train,y_train )\n",
        "\n",
        "print(f\"Best parameters for LR_model :\")\n",
        "print(grid_search.best_params_)\n",
        "\n",
        "tuned_LR_model=grid_search.best_estimator_"
      ],
      "metadata": {
        "colab": {
          "base_uri": "https://localhost:8080/"
        },
        "id": "da052n6EwgAu",
        "outputId": "8bf9be9d-85e9-4955-a243-eb103b8cdbee"
      },
      "execution_count": 49,
      "outputs": [
        {
          "output_type": "stream",
          "name": "stdout",
          "text": [
            "Fitting 3 folds for each of 12 candidates, totalling 36 fits\n",
            "Best parameters for LR_model :\n",
            "{'clf__C': 10, 'tfidf__max_df': 0.5, 'tfidf__ngram_range': (1, 1)}\n"
          ]
        }
      ]
    },
    {
      "cell_type": "markdown",
      "source": [
        "## Classification report on Test Data for Tuned Logistic Regression Model"
      ],
      "metadata": {
        "id": "v0800ZY7w99d"
      }
    },
    {
      "cell_type": "code",
      "source": [
        "y_pred = tuned_LR_model.predict(X_test)\n",
        "report = classification_report(y_test, y_pred)\n",
        "print(f\"Classification Report for Tuned_LR_Model:\\n{report}\\n\")"
      ],
      "metadata": {
        "colab": {
          "base_uri": "https://localhost:8080/"
        },
        "id": "NVsZpe0AwSMv",
        "outputId": "e256b052-dbd6-4f90-fba1-e1e7912bad90"
      },
      "execution_count": 55,
      "outputs": [
        {
          "output_type": "stream",
          "name": "stdout",
          "text": [
            "Classification Report for Tuned_LR_Model:\n",
            "              precision    recall  f1-score   support\n",
            "\n",
            "           0       0.99      1.00      0.99       211\n",
            "           1       0.99      0.96      0.97        76\n",
            "\n",
            "    accuracy                           0.99       287\n",
            "   macro avg       0.99      0.98      0.98       287\n",
            "weighted avg       0.99      0.99      0.99       287\n",
            "\n",
            "\n"
          ]
        }
      ]
    },
    {
      "cell_type": "code",
      "source": [],
      "metadata": {
        "id": "Ffw5dL5xzLiN"
      },
      "execution_count": null,
      "outputs": []
    }
  ]
}